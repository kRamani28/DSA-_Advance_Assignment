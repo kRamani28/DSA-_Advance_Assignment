{
 "cells": [
  {
   "cell_type": "code",
   "execution_count": 3,
   "id": "b54a9669",
   "metadata": {},
   "outputs": [],
   "source": [
    "#1. Delete the elements in an linked list whose sum is equal to zero\n",
    "\n",
    "class ListNode:\n",
    "    def __init__(self, val = 0, next = None):\n",
    "        self.val = val\n",
    "        self.next = next\n",
    "        \n",
    "def delete_zero_sum_nodes(head: ListNode)-> ListNode:\n",
    "        dummy = ListNode(0)\n",
    "        dummy.next = head\n",
    "        \n",
    "        prefix_sum = 0\n",
    "        seen = {0: dummy}\n",
    "        \n",
    "        curr = head\n",
    "        while curr:\n",
    "            prefix_sum += curr.val\n",
    "            seen[prefix_sum] = curr\n",
    "            curr = curr.next\n",
    "        prefix_sum = 0\n",
    "        curr = dummy\n",
    "        while curr:\n",
    "            prefix_sum += curr.val\n",
    "            curr.next = seen[prefix_sum].next\n",
    "            curr = curr.next\n",
    "            \n",
    "        return dummy.next "
   ]
  },
  {
   "cell_type": "code",
   "execution_count": 4,
   "id": "05f55aa4",
   "metadata": {},
   "outputs": [],
   "source": [
    "#2.Reverse a linked list in groups of given size\n",
    "\n",
    "class Node:\n",
    "    def __init__(self,val):\n",
    "        self.val = val\n",
    "        self.next = None\n",
    "def reverse_group(head, k):\n",
    "    current = head\n",
    "    prev = None\n",
    "    next = None\n",
    "    count = 0\n",
    "    \n",
    "    while current is not None and count < k:\n",
    "        next = current.next\n",
    "        current.next = prev\n",
    "        prev = current\n",
    "        current = next\n",
    "        count += 1\n",
    "    if next is not None:\n",
    "        head.next = reverse_group(next, k)\n",
    "        \n",
    "    return prev"
   ]
  },
  {
   "cell_type": "code",
   "execution_count": 7,
   "id": "ffa14792",
   "metadata": {},
   "outputs": [],
   "source": [
    "#3. Merge a linked list into another linked list at a alternate positions\n",
    "\n",
    "class Node:\n",
    "    def __init__(self, val):\n",
    "        self.val = val\n",
    "        self.next = None\n",
    "        \n",
    "def merge_alternate(head1, head2):\n",
    "    p1 = head1\n",
    "    p2 = head2\n",
    "    \n",
    "    while p1 is not None and p2 is not None:\n",
    "        temp = p1.next\n",
    "        p1.next = p2\n",
    "        p2 = p2.next\n",
    "        p1.next.next = temp\n",
    "        p1 = temp\n",
    "        \n",
    "    if p2 is not None:\n",
    "        p1.next = p2\n",
    "        \n",
    "    return head1\n",
    "        "
   ]
  },
  {
   "cell_type": "code",
   "execution_count": 8,
   "id": "475d34c2",
   "metadata": {},
   "outputs": [],
   "source": [
    "#4. In an array, Count Paris with given sum\n",
    "\n",
    "def count_paris(arr, target_sum):\n",
    "    pairs = 0\n",
    "    for i in range(len(arr)):\n",
    "        for j in range(i+1, len(arr)):\n",
    "            if arr[i] + arr[j] == target_sum:\n",
    "                pairs += 1\n",
    "    return pairs"
   ]
  },
  {
   "cell_type": "code",
   "execution_count": 9,
   "id": "4ca14697",
   "metadata": {},
   "outputs": [],
   "source": [
    "#5. Find duplicates in an array\n",
    "\n",
    "def find_duplicates(arr):\n",
    "    duplicates = []\n",
    "    for i in range(len(arr)):\n",
    "        if arr[abs(arr[i])] >= 0:\n",
    "            arr[abs(arr[i])] = -arr[abs(arr[i])]\n",
    "        else:\n",
    "            duplicates.append(abs(arr[i]))\n",
    "    return duplicates"
   ]
  },
  {
   "cell_type": "code",
   "execution_count": 12,
   "id": "87a52072",
   "metadata": {},
   "outputs": [],
   "source": [
    "#6. Find the Kth largest and Kth smallest number in an array\n",
    "\n",
    "def kth_smallest_largest(arr, k):\n",
    "    sorted_arr = sorted(arr)\n",
    "    kth_smallest = sorted_arr[k-1]\n",
    "    kth_largest = sorted_arr[-k]\n",
    "    return kth_smallest, kth_largest"
   ]
  },
  {
   "cell_type": "code",
   "execution_count": 13,
   "id": "112d23ce",
   "metadata": {},
   "outputs": [],
   "source": [
    "#7. Move all the negative elements to oneside of the array\n",
    "\n",
    "def move_negative_to_left(arr):\n",
    "    left = 0 \n",
    "    right = len(arr) -1 \n",
    "    while left <= right:\n",
    "        if arr[left] < 0:\n",
    "            left += 1\n",
    "        elif arr[right] >= 0:\n",
    "            right -= 1\n",
    "        else:\n",
    "            arr[left],arr[right] = arr[right], arr[left]\n",
    "            left += 1\n",
    "            right -= 1\n",
    "    return arr"
   ]
  },
  {
   "cell_type": "code",
   "execution_count": 14,
   "id": "e48149e4",
   "metadata": {},
   "outputs": [
    {
     "name": "stdout",
     "output_type": "stream",
     "text": [
      "!adoydE ,olleH\n"
     ]
    }
   ],
   "source": [
    "#8. Reverse a string using a stack data structure\n",
    "\n",
    "def reverse_string(s):\n",
    "    stack = []\n",
    "    for c in s:\n",
    "        stack.append(c)\n",
    "    reversed_s = \"\"\n",
    "    while len(stack) > 0:\n",
    "        reversed_s += stack.pop()\n",
    "    return reversed_s\n",
    "# Example:\n",
    "s = \"Hello, Edyoda!\"\n",
    "reversed_s = reverse_string(s)\n",
    "print(reversed_s)"
   ]
  },
  {
   "cell_type": "code",
   "execution_count": 18,
   "id": "24032539",
   "metadata": {},
   "outputs": [
    {
     "name": "stdout",
     "output_type": "stream",
     "text": [
      "20\n"
     ]
    }
   ],
   "source": [
    "#9. Evaluate a postfix expression using stack\n",
    "\n",
    "def evaluate_postfix(expr):\n",
    "    stack = []\n",
    "    for char in expr:\n",
    "        if char.isdigit():\n",
    "            stack.append(int(char))\n",
    "        else:\n",
    "            val1 = stack.pop()\n",
    "            val2 = stack.pop()\n",
    "            if char == \"+\":\n",
    "                stack.append(val2 + val1)\n",
    "            elif char == \"-\":\n",
    "                stack.append(val2 - val1)\n",
    "            elif char == \"*\":\n",
    "                stack.append(val2 * val1)\n",
    "            elif char == \"/\":\n",
    "                stack.append(int(val2 / val1))\n",
    "    return stack.pop()\n",
    "\n",
    "# Example:\n",
    "expr = \"23+4*\"\n",
    "result = evaluate_postfix(expr)\n",
    "print(result)\n",
    "        "
   ]
  },
  {
   "cell_type": "code",
   "execution_count": 19,
   "id": "d9122028",
   "metadata": {},
   "outputs": [
    {
     "name": "stdout",
     "output_type": "stream",
     "text": [
      "1\n",
      "2\n",
      "3\n",
      "4\n",
      "True\n"
     ]
    }
   ],
   "source": [
    "#10. Implement a queue using the stack data structure\n",
    "\n",
    "class Queue:\n",
    "    def __init__(self):\n",
    "        self.stack1 = []\n",
    "        self.stack2 = []\n",
    "        \n",
    "    def enqueue(self, item):\n",
    "        self.stack1.append(item)\n",
    "        \n",
    "    def dequeue(self):\n",
    "        if not self.stack2:\n",
    "            while self.stack1:\n",
    "                self.stack2.append(self.stack1.pop())\n",
    "        if not self.stack2:\n",
    "            return None\n",
    "        return self.stack2.pop()\n",
    "    \n",
    "    def size(self):\n",
    "        return len(self.stack1) + len(self.stack2)\n",
    "    \n",
    "    def is_empty(self):\n",
    "        return self.size() == 0\n",
    "    \n",
    "# Example:\n",
    "q = Queue()\n",
    "q.enqueue(1)\n",
    "q.enqueue(2)\n",
    "q.enqueue(3)\n",
    "print(q.dequeue())\n",
    "print(q.dequeue())\n",
    "q.enqueue(4)\n",
    "print(q.dequeue())\n",
    "print(q.dequeue())\n",
    "print(q.is_empty())"
   ]
  },
  {
   "cell_type": "code",
   "execution_count": null,
   "id": "10f2f677",
   "metadata": {},
   "outputs": [],
   "source": []
  }
 ],
 "metadata": {
  "kernelspec": {
   "display_name": "Python 3 (ipykernel)",
   "language": "python",
   "name": "python3"
  },
  "language_info": {
   "codemirror_mode": {
    "name": "ipython",
    "version": 3
   },
   "file_extension": ".py",
   "mimetype": "text/x-python",
   "name": "python",
   "nbconvert_exporter": "python",
   "pygments_lexer": "ipython3",
   "version": "3.11.2"
  }
 },
 "nbformat": 4,
 "nbformat_minor": 5
}
